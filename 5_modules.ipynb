{
 "cells": [
  {
   "cell_type": "markdown",
   "metadata": {},
   "source": [
    "# 5. ファイル操作とモジュール\n",
    "***\n",
    "本節では、Pythonでファイルを読み書きする方法と、\n",
    "Pythonファイルの分割と再利用のためモジュールについて説明します。\n",
    "また、Pythonが用意するモジュールである標準ライブラリも紹介します。\n",
    "\n",
    "<a id=\"guide-files\"></a>\n",
    "## 5.1. ファイル操作\n",
    "***\n",
    "プログラムには何らかの入出力が不可欠です。ここでは入力元、出力先としてファイルを操作する方法を説明します。\n",
    "\n",
    "<a id=\"Files-open\"></a>\n",
    "### 5.1.1. ファイルのオープン(書き込みモード)\n",
    "***\n",
    "まずはPythonでファイルに書き込んでみます。\n",
    "\n",
    "Pythonでファイルを書き込むために、ファイルを開く必要があります。\n",
    "Pythonでファイルを開くには ``open()`` 関数を使います。\n",
    "書き込み用にファイルを開く場合には、以下のように引数を指定してファイルを **書き込みモード** で開きます。\n",
    "\n",
    "* 第1引数 ファイルのパス\n",
    "* 第2引数 ファイルのモード(この場合は ``w`` で書き込みモード)\n",
    "* encoding引数 ファイルの文字コード(この場合は ``utf-8``)\n",
    "\n",
    "以下のように指定して ``pycamp.txt`` というファイルを書き込みモードで開きます([リスト5.1](#file-open) )。\n",
    "\n",
    "<a id=\"file-open\"></a>\n",
    "#### リスト5.1 ファイルを開く"
   ]
  },
  {
   "cell_type": "code",
   "execution_count": null,
   "metadata": {},
   "outputs": [],
   "source": [
    " f = open('pycamp.txt', 'w', encoding='utf-8')\n",
    " f"
   ]
  },
  {
   "cell_type": "markdown",
   "metadata": {},
   "source": [
    "``open()`` 関数は、ファイルオブジェクトを返します（[リスト5.1](#file-open) の場合は ``f`` へ代入しています）。\n",
    "ファイルオブジェクトを通じて、開いたファイルに対する書き込みや読み込みの操作を行います。\n",
    "\n",
    "<a id=\"tip\"></a>\n",
    "   ファイルが存在しない状態で書き込みモードでファイルを開くと、ファイルが新規に作成されます。\n",
    "\n",
    "   ファイルが存在する場合は、もとの中身が削除されます。大事なファイルの中身を書き込みモードで消さないように注意してください。\n",
    "\n",
    "<a id=\"Files-write\"></a>\n",
    "### 5.1.2. ファイルへの書き込み\n",
    "***\n",
    "ファイルへ書き込みを行うには、ファイルオブジェクトの ``.write()`` メソッドを使用します。\n",
    "引数に書き込む文字列を指定します（[リスト5.2](#write-string)）。\n",
    "``.write()`` メソッドを実行すると、書き込んだ文字数が返されます。\n",
    "\n",
    "<a id=\"write-string\"></a>\n",
    "#### リスト5.2 ファイルへ書き込み"
   ]
  },
  {
   "cell_type": "code",
   "execution_count": null,
   "metadata": {},
   "outputs": [],
   "source": [
    "f.write('Hello')"
   ]
  },
  {
   "cell_type": "code",
   "execution_count": null,
   "metadata": {},
   "outputs": [],
   "source": [
    "f.write(' Python\\n')  # 改行を書き込むには \\n を指定する"
   ]
  },
  {
   "cell_type": "code",
   "execution_count": null,
   "metadata": {},
   "outputs": [],
   "source": [
    "f.write('こんにちはPython\\n')  # 日本語も書き込み可能"
   ]
  },
  {
   "cell_type": "markdown",
   "metadata": {},
   "source": [
    "[リスト5.1](#file-open)、[リスト5.2](#write-string) の結果、実行環境直下に ``pycamp.txt`` というファイルが次のような内容で作成されます。\n",
    "\n",
    "#### リスト5.3 新規作成されたpycamp.txtの内容\n",
    "```\n",
    "   Hello Python\n",
    "   こんにちはPython\n",
    "```\n",
    "<a id=\"File-close\"></a>\n",
    "### 5.1.3. ファイルのクローズ\n",
    "***\n",
    "ファイルを開いた後は閉じる必要があります。ファイルを閉じることにより、ファイルを開くために使われていたシステム資源を解放します。\n",
    "\n",
    "ファイルを閉じるには、ファイルオブジェクトの ``.close()`` メソッドを呼び出します。\n",
    "\n",
    "#### リスト5.4 ファイルを閉じる"
   ]
  },
  {
   "cell_type": "code",
   "execution_count": null,
   "metadata": {},
   "outputs": [],
   "source": [
    "f.close()"
   ]
  },
  {
   "cell_type": "markdown",
   "metadata": {},
   "source": [
    "<a id=\"File-read\"></a>\n",
    "### 5.1.4. ファイルの読み込み\n",
    "***\n",
    "ファイルの中身を読み込むには、ファイルを読み込みモード(``r``)で開きます。\n",
    "その後ファイルオブジェクトの ``.read()`` メソッドでファイルの中身を読み込みます（[リスト5.5](#read-file)）。\n",
    "\n",
    "<a id=\"read-file\"></a>\n",
    "#### リスト5.5 ファイル内容の読み込み"
   ]
  },
  {
   "cell_type": "code",
   "execution_count": null,
   "metadata": {},
   "outputs": [],
   "source": [
    "f = open('pycamp.txt', 'r', encoding='utf-8')\n",
    "f"
   ]
  },
  {
   "cell_type": "code",
   "execution_count": null,
   "metadata": {},
   "outputs": [],
   "source": [
    "txt = f.read()\n",
    "print(txt)"
   ]
  },
  {
   "cell_type": "code",
   "execution_count": null,
   "metadata": {},
   "outputs": [],
   "source": [
    "f.close()"
   ]
  },
  {
   "cell_type": "markdown",
   "metadata": {},
   "source": [
    "``.read()`` メソッドは、ファイルの内容の文字列（``str``）を返します。\n",
    "\n",
    "なお、第2引数のデフォルトは読み込みモードなので、 ``r`` の指定は省略できます([リスト5.6](#read-file2))。\n",
    "\n",
    "<a id=\"read-file2\"></a>\n",
    "#### リスト5.6 第2引数を省略してファイルを開く"
   ]
  },
  {
   "cell_type": "code",
   "execution_count": null,
   "metadata": {},
   "outputs": [],
   "source": [
    "f = open('pycamp.txt', encoding='utf-8')\n",
    "f"
   ]
  },
  {
   "cell_type": "markdown",
   "metadata": {},
   "source": [
    "<a id=\"note\"></a>\n",
    "\n",
    "   with文でのファイルオープン\n",
    "\n",
    "   ファイルを扱う際には、 [with文](https://docs.python.org/ja/3/reference/compound_stmts.html#with) を使うと便利です。\n",
    "   ``with`` 文を使うことで、ファイルのクローズを自動で行えます。処理中に例外が発生しても必ずファイルを閉じることができます。\n",
    "\n",
    "   ``with`` 文を使うと、ファイルのオープン、読み込み、クローズの処理は、[リスト5.7](#with-statement) のように書き換えられます。\n",
    "\n",
    "<a id=\"with-statement\"></a>\n",
    "#### リスト5.7 ファイルオープンとwith文"
   ]
  },
  {
   "cell_type": "code",
   "execution_count": null,
   "metadata": {},
   "outputs": [],
   "source": [
    "with open('pycamp.txt', encoding='utf-8') as f:\n",
    "     txt = f.read()\n",
    "print(txt)"
   ]
  },
  {
   "cell_type": "markdown",
   "metadata": {},
   "source": [
    "<a id=\"File-append-mode\"></a>\n",
    "\n",
    "### 5.1.5. 追記モードでの書き込み\n",
    "***\n",
    "書き込みモード(``'w'``)でファイルを開くと、ファイルの内容は常に新しく上書きされます。\n",
    "\n",
    "[リスト5.2](#write-string) の書き込みをもう一度行っても、ファイルの内容は ``'Hello Python\\nこんにちはPython\\n'`` となります。\n",
    "\n",
    "すでに存在するファイルを対象に、末尾に追記するには、ファイルを追記モードで開きます。\n",
    "追記モードでファイルを開くには、 ``open()`` 関数の第2引数に ``'a'`` を指定します（[リスト5.8](#append-mode)）。\n",
    "\n",
    "<a id=\"append-mode\"></a>\n",
    "#### リスト5.8 追記モードでファイルを開く"
   ]
  },
  {
   "cell_type": "code",
   "execution_count": null,
   "metadata": {},
   "outputs": [],
   "source": [
    "f = open('pycamp.txt', 'a', encoding='utf-8')\n",
    "f.write('こんにちは世界\\n')"
   ]
  },
  {
   "cell_type": "markdown",
   "metadata": {},
   "source": [
    "[リスト5.8](#append-mode) の結果、追記後の ``pycamp.txt`` の内容は次のようになります\n",
    "#### リスト5.9 追記されたpycamp.txtの内容\n",
    "```\n",
    "   Hello Python\n",
    "   こんにちはPython\n",
    "   こんにちは世界\n",
    "```\n",
    "<a id=\"guide-module\"></a>\n",
    "### 5.2. モジュール\n",
    "***\n",
    "ここまでの処理はPythonインタープリタの対話モード上か、1つのPythonファイルに記述して実行してきました。\n",
    "\n",
    "しかし、対話モード上では処理を残すことができませんし、1つのファイルに記述していると、プログラムが長くなるとどこに何を書いているのかがわからなくなってきます。\n",
    "\n",
    "処理が長く、複雑になると、複数のファイルに処理を分割する必要があります。役割ごとにファイルを分割することで、それぞれどういった処理をするものかを明確にできます。\n",
    "\n",
    "Pythonでは他のPythonファイルや関数をインポート（import）して再利用できます。処理を複数のファイルに分割し、必要な処理をインポートして使います。\n",
    "\n",
    "実行環境直下に ``calc.py`` というファイルを作成して、 ``add()`` 、 ``sub()`` 関数を定義しましょう（[リスト5.10](#calc-py)）。\n",
    "\n",
    "<a id=\"calc-py\"></a>\n",
    "#### リスト5.10 add()、sub()関数の定義（calc.py）\n",
    "```python\n",
    "def add(a, b):\n",
    "    return a + b\n",
    "\n",
    "\n",
    "def sub(a, b):\n",
    "    return a - b\n",
    "```\n",
    "<a id=\"Module-import\"></a>\n",
    "別のファイルをインポートするには ``import`` 文を使います。\n",
    "\n",
    "Pythonインタープリタを起動して、 ``calc.py`` をインポートしましょう（[リスト5.11](#import-calc)）。\n",
    "\n",
    "<a id=\"import-calc\"></a>\n",
    "#### リスト5.11 calcのインポート"
   ]
  },
  {
   "cell_type": "code",
   "execution_count": null,
   "metadata": {},
   "outputs": [],
   "source": [
    "import calc"
   ]
  },
  {
   "cell_type": "markdown",
   "metadata": {},
   "source": [
    "``calc`` というモジュールがインポートされました。\n",
    "\n",
    "Pythonファイルをインポートすることでモジュール（module）として再利用できます。\n",
    "\n",
    "``calc`` モジュールから ``add()`` 関数を使うには、 ``calc.add()`` と呼び出します（[リスト5.12](#call-calc-add)）。\n",
    "\n",
    "<a id=\"call-calc-add\"></a>\n",
    "#### リスト5.12 別モジュールの関数を利用"
   ]
  },
  {
   "cell_type": "code",
   "execution_count": null,
   "metadata": {},
   "outputs": [],
   "source": [
    "calc.add(1, 2)"
   ]
  },
  {
   "cell_type": "markdown",
   "metadata": {},
   "source": [
    "<a id=\"Module-from\"></a>\n",
    "### 5.2.1. 関数のインポート\n",
    "***\n",
    "``add()`` 関数を直接インポートするには、 ``from ＜モジュール＞ import ＜インポート対象＞`` 文を使います。\n",
    "\n",
    "``from ＜モジュール＞`` の部分にモジュール、 ``import ＜インポート対象＞`` の部分にインポートの対象を書きます（[リスト5.13](#import-function)）。\n",
    "\n",
    "<a id=\"import-function\"></a>\n",
    "#### リスト5.13 関数のインポート"
   ]
  },
  {
   "cell_type": "code",
   "execution_count": null,
   "metadata": {},
   "outputs": [],
   "source": [
    "from calc import add\n",
    "add(1, 2)"
   ]
  },
  {
   "cell_type": "markdown",
   "metadata": {},
   "source": [
    "<a id=\"Module-as\"></a>\n",
    "### 5.2.2. 別名をつける\n",
    "***\n",
    "インポートした関数やモジュールに別名をつけるには ``as`` を使います。\n",
    "関数やモジュールが頻繁に使われるのに名前が長い場合に使われます。\n",
    "\n",
    "``import <インポート対象> as <別名>`` のように別名を指定します。\n",
    "``calc`` モジュールに別名 ``c`` をつけてインポートするには [リスト5.14](#import-as) のようにします。\n",
    "\n",
    "<a id=\"import-as\"></a>\n",
    "#### リスト5.14 インポート対象に別名をつける"
   ]
  },
  {
   "cell_type": "code",
   "execution_count": null,
   "metadata": {},
   "outputs": [],
   "source": [
    "import calc as c\n",
    "c.add(1, 2)"
   ]
  },
  {
   "cell_type": "markdown",
   "metadata": {},
   "source": [
    "### 5.2.3. 複数の対象をインポート\n",
    "***\n",
    "``calc`` モジュールから ``add()`` 、 ``sub()`` 関数を一度にインポートするには、\n",
    "``import`` 文でカンマ区切りでインポート対象を指定します([リスト5.15](#import-functions))。\n",
    "\n",
    "<a id=\"import-functions\"></a>\n",
    "#### リスト5.15 複数の対象をインポート"
   ]
  },
  {
   "cell_type": "code",
   "execution_count": null,
   "metadata": {},
   "outputs": [],
   "source": [
    "from calc import add, sub\n",
    "add(1, 2)"
   ]
  },
  {
   "cell_type": "code",
   "execution_count": null,
   "metadata": {},
   "outputs": [],
   "source": [
    "sub(2, 1)"
   ]
  },
  {
   "cell_type": "markdown",
   "metadata": {},
   "source": [
    "また、 :numref:`import-functions2` のように括弧を使っても指定できます。\n",
    "インポート対象が多い場合は括弧を使った書き方のほうが可読性が高いので、こちらを使います。\n",
    "\n",
    "<a id=\"import-functions2\"></a>\n",
    "#### リスト5.16 括弧を使った複数のインポート"
   ]
  },
  {
   "cell_type": "markdown",
   "metadata": {},
   "source": [
    "from calc import (\n",
    "     add,\n",
    "     sub,\n",
    ")"
   ]
  },
  {
   "cell_type": "markdown",
   "metadata": {},
   "source": [
    "<a id=\"Standard-library\"></a>\n",
    "## 5.3. 標準ライブラリの利用\n",
    "***\n",
    "Python自体も標準でモジュールを提供しています。これら標準で提供されているモジュールをまとめて標準ライブラリと呼びます。\n",
    "\n",
    "必要な処理をすべて自分で実装するのでなく、積極的に標準ライブラリを利用しましょう。\n",
    "\n",
    "標準ライブラリを利用すると重複する実装が減り、コードの記述量を大幅に削減できます。\n",
    "\n",
    "<a id=\"daetime\"></a>\n",
    "### 5.3.1. 日付を扱うモジュール\n",
    "***\n",
    "標準ライブラリの1つ ``datetime`` モジュールを取り上げます。\n",
    "``datetime`` は日付や時刻を簡単に取り扱うことができるモジュールです。\n",
    "ここでは例として日付の計算を行います。\n",
    "\n",
    "``datetime.date()`` コンストラクタを使って日付を意味するオブジェクトを生成できます。\n",
    "引数として年、月、日を指定します。\n",
    "\n",
    "#### リスト5.17 datetime.date()コンストラクタ"
   ]
  },
  {
   "cell_type": "code",
   "execution_count": null,
   "metadata": {},
   "outputs": [],
   "source": [
    "import datetime\n",
    "d = datetime.date(2016, 12, 23)\n",
    "print(d.year, d.month, d.day)"
   ]
  },
  {
   "cell_type": "markdown",
   "metadata": {},
   "source": [
    "また、 ``datetime.date.today()`` メソッドを使うと今日の日付を取得することができます。\n",
    "\n",
    "#### リスト5.18 datetime.date.today()メソッド"
   ]
  },
  {
   "cell_type": "code",
   "execution_count": null,
   "metadata": {},
   "outputs": [],
   "source": [
    "today = datetime.date.today()\n",
    "print(today)  # 実行する日によって結果が異なる"
   ]
  },
  {
   "cell_type": "markdown",
   "metadata": {},
   "source": [
    "ここで、自分が生まれてから今日までに何日経過したのかを計算してみましょう。\n",
    "自分で実装しようとすると、月ごとに日数が違う、うるう年の計算など面倒な計算が必要となりますが、\n",
    "``datetime.date`` を使うと面倒な部分をモジュールが肩代わりしてくれます。\n",
    "\n",
    "#### リスト5.19 datetime.date.today()メソッド"
   ]
  },
  {
   "cell_type": "code",
   "execution_count": null,
   "metadata": {},
   "outputs": [],
   "source": [
    "birthday = datetime.date(2008, 12, 3)  # Python 3.0のリリース日\n",
    "today = datetime.date.today()\n",
    "delta = today - birthday  # 日付や時刻の差を表すdatetime.timedeltaオブジェクト\n",
    "print(delta.days)  # 実行する日によって結果が異なる"
   ]
  },
  {
   "cell_type": "markdown",
   "metadata": {},
   "source": [
    "``datetime`` モジュールは他にも時刻を扱う ``datetime.time``, 日付と時刻両方を扱う ``datetime.datetime`` など日付や時刻の計算に便利な関数がたくさんあります。\n",
    "詳しくはPythonの公式ドキュメントの「 [datetimeモジュール](https://docs.python.org/ja/3/library/datetime.html) 」を参考にしてください。\n",
    "\n",
    "<a id=\"re\"></a>\n",
    "### 5.3.2. 正規表現モジュール\n",
    "***\n",
    "次に標準ライブラリの1つ ``re`` モジュールを扱います。\n",
    "``re`` モジュールはPythonで正規表現を扱うためのモジュールです。\n",
    "\n",
    "``re.search()`` 関数を使って、文字列が正規表現にマッチするか調べられます。第1引数に正規表現、第2引数に対象の文字列を渡します（[リスト5.20](#re-module)）。\n",
    "\n",
    "<a id=\"re-module\"></a>\n",
    "#### リスト5.20 reモジュールの利用"
   ]
  },
  {
   "cell_type": "code",
   "execution_count": null,
   "metadata": {},
   "outputs": [],
   "source": [
    "import re\n",
    "m = re.search('(P(yth|l)|Z)o[pn]e?', 'Python')\n",
    "m"
   ]
  },
  {
   "cell_type": "markdown",
   "metadata": {},
   "source": [
    "正規表現にマッチした場合、 ``re.search()`` は結果を表すマッチオブジェクトを返します。\n",
    "マッチオブジェクトから値を取り出すには、 ``.group()`` メソッドを呼び出します（[リスト5.21](#match-object)）。\n",
    "\n",
    "<a id=\"match-object\"></a>\n",
    "#### リスト5.21 正規表現にマッチした文字列の取得"
   ]
  },
  {
   "cell_type": "code",
   "execution_count": null,
   "metadata": {},
   "outputs": [],
   "source": [
    "m.group()"
   ]
  },
  {
   "cell_type": "markdown",
   "metadata": {},
   "source": [
    "正規表現がグループを含む場合、グループの番号を引数に渡して取り出せます。\n",
    "引数を指定しないか、0を指定すると、正規表現全体のマッチが返されます（[リスト5.22](#match-group)）。\n",
    "\n",
    "<a id=\"match-group\"></a>\n",
    "#### リスト5.22 グループを指定して文字列の取得"
   ]
  },
  {
   "cell_type": "code",
   "execution_count": null,
   "metadata": {},
   "outputs": [],
   "source": [
    "m = re.search('py(thon)', 'python')\n",
    "m.group()"
   ]
  },
  {
   "cell_type": "code",
   "execution_count": null,
   "metadata": {},
   "outputs": [],
   "source": [
    "m.group(0)"
   ]
  },
  {
   "cell_type": "code",
   "execution_count": null,
   "metadata": {},
   "outputs": [],
   "source": [
    "m.group(1)"
   ]
  },
  {
   "cell_type": "markdown",
   "metadata": {},
   "source": [
    "正規表現にマッチしない場合は、[リスト5.23](#not-match) に示すように何も返しません（``None`` を返します）。\n",
    "\n",
    "<a id=\"not-match\"></a>\n",
    "#### リスト5.23 正規表現にマッチしない場合"
   ]
  },
  {
   "cell_type": "code",
   "execution_count": null,
   "metadata": {},
   "outputs": [],
   "source": [
    "re.search('py', 'ruby')"
   ]
  },
  {
   "cell_type": "markdown",
   "metadata": {},
   "source": [
    "### コラム: 正規表現の文字列\n",
    "***\n",
    "正規表現の文字列にはPythonのraw文字列を使うのが一般的です。\n",
    "\n",
    "``r`` プレフィックスをつけてraw文字列を定義します。\n",
    "raw文字列ではバックスラッシュを特別扱いしないので、\n",
    "正規表現中にバックスラッシュを使う際に ``'\\\\'`` と書く必要がなくなります。\n",
    "\n",
    "\n",
    "``re`` モジュールには、ここで説明していない有効な使い方があります。\n",
    "Pythonの公式ドキュメントの「 [reモジュール](https://docs.python.org/ja/3/library/re.html) 」を参考にしてください。\n",
    "\n",
    "また、他のPython標準ライブラリについては、「 [Python標準ライブラリ](https://docs.python.org/ja/3/library/index.html) 」を参考にしてください。\n",
    "\n",
    "\n",
    "## 5.4. まとめ\n",
    "***\n",
    "本節では、Pythonでファイルを読み書きする方法、Pythonファイルを分割して再利用する方法を解説しました。\n",
    "また、標準ライブラリである ``datetime`` モジュールや ``re`` モジュールの紹介をしました。"
   ]
  }
 ],
 "metadata": {
  "kernelspec": {
   "display_name": "Python 3",
   "language": "python",
   "name": "python3"
  },
  "language_info": {
   "codemirror_mode": {
    "name": "ipython",
    "version": 3
   },
   "file_extension": ".py",
   "mimetype": "text/x-python",
   "name": "python",
   "nbconvert_exporter": "python",
   "pygments_lexer": "ipython3",
   "version": "3.6.5"
  }
 },
 "nbformat": 4,
 "nbformat_minor": 2
}
