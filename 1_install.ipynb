{
 "cells": [
  {
   "cell_type": "markdown",
   "metadata": {},
   "source": [
    "<a id=\"_guide-install\"></a>"
   ]
  },
  {
   "cell_type": "markdown",
   "metadata": {},
   "source": [
    "# 1. Pythonをはじめる前に\n",
    "\n",
    "\n",
    "### エディタ、コマンドラインの準備、Pythonのインストール方法の紹介\n",
    "\n",
    "Pythonをはじめましょう！\n",
    "\n",
    "本節では Python Boot Camp の事前準備として以下について説明します。\n",
    "\n",
    "- ソースコードを読み書きするためのエディタの準備\n",
    "- Python を実行するためのコマンドラインの準備\n",
    "- Pythonのインストール方法"
   ]
  },
  {
   "cell_type": "markdown",
   "metadata": {},
   "source": [
    "<a id=\"Editor\"></a>"
   ]
  },
  {
   "cell_type": "markdown",
   "metadata": {},
   "source": [
    "## 1.1. エディタの準備\n",
    "***\n",
    "ソースコードを読み書きするために、エディタを用意します。\n",
    "普段使用しているエディタがある人は、そのエディタを使用して構いません。\n",
    "Python の文法に対応しているエディタを使用することをおすすめします。\n",
    "\n",
    "普段使っているエディタがない人は、以下のいずれかをインストールしてください。\n",
    "\n",
    "-  [Atom ](https://atom.io/): さまざまなプログラミング言語に対応したエディタ\n",
    "-  [PyCharm](https://www.jetbrains.com/pycharm/): Pythonに特化したIDE(統合開発環境)"
   ]
  },
  {
   "cell_type": "markdown",
   "metadata": {},
   "source": [
    "<a id=\"Terminal\"></a>"
   ]
  },
  {
   "cell_type": "markdown",
   "metadata": {},
   "source": [
    "## 1.2. ターミナルの準備\n",
    "***\n",
    "Python を実行するために、ターミナル(macOS)、PowerShell(Windows)を立ち上げます。\n",
    "\n",
    "- macOS では「アプリケーション」→「ユーティリティ」→「ターミナル」を選択します\n",
    "- Windows では **Windows+R** キーを押して ``powershell`` と入力します"
   ]
  },
  {
   "cell_type": "markdown",
   "metadata": {},
   "source": [
    "<a id=\"Install\"></a>"
   ]
  },
  {
   "cell_type": "markdown",
   "metadata": {},
   "source": [
    "## 1.3. Pythonのインストール\n",
    "***\n",
    "ここではPythonのインストール方法を説明します。\n",
    "\n",
    "macOS、Windows、Linuxの3つの環境でのインストール手順を説明します。"
   ]
  },
  {
   "cell_type": "markdown",
   "metadata": {},
   "source": [
    "<a id=\"Install-macOS\"></a>"
   ]
  },
  {
   "cell_type": "markdown",
   "metadata": {},
   "source": [
    "### 1.3.1 macOSの場合\n",
    "***\n",
    "macOSでPythonを利用する場合は、Pythonの公式サイトで配布されているビルド済みのパッケージをインストールします。\n",
    "\n",
    "「 [Python Release Python 3.6.6](https://www.python.org/downloads/release/python-366/) 」をブラウザで開きます。\n",
    "以下のいずれかをダウンロードして実行し、Pythonをインストールします。\n",
    "\n",
    "- OS X 10.9以降: [macOS 64-bit installer](https://www.python.org/ftp/python/3.6.6/python-3.6.6-macosx10.9.pkg)  \n",
    "- Mac OS X 10.6以降: [macOS 64-bit/32-bit installer](https://www.python.org/ftp/python/3.6.6/python-3.6.6-macosx10.6.pkg)  \n",
    "\n",
    "詳しくはPythonの公式ドキュメントの「 [MacintoshでPythonを使う](https://docs.python.org/ja/3/using/mac.html) 」を参考にしてください。\n",
    "\n",
    "インストールが完了したらPythonのバージョンが3.6.6になっていることを確認します（[リスト1.1](#check-version-mac)）。"
   ]
  },
  {
   "cell_type": "markdown",
   "metadata": {},
   "source": [
    "<a id=\"check-version-mac\"></a>"
   ]
  },
  {
   "cell_type": "markdown",
   "metadata": {},
   "source": [
    "#### リスト1.1 Pythonのバージョンを確認\n",
    "```bash\n",
    "   $ python3.6 -V\n",
    "   Python 3.6.6\n",
    "```"
   ]
  },
  {
   "cell_type": "markdown",
   "metadata": {},
   "source": [
    "<a id=\"Install-Windows\"></a>"
   ]
  },
  {
   "cell_type": "markdown",
   "metadata": {},
   "source": [
    "### 1.3.2. Windowsの場合\n",
    "***\n",
    "WindowsでPythonを利用する場合は、Pythonの公式サイトで配布されているWindowsインストーラを利用します。\n",
    "\n",
    "「 [Python Release Python 3.6.6](https://www.python.org/downloads/release/python-366/) 」をブラウザで開きます。\n",
    "OSによって以下のいずれかのインストーラーをダウンロードし、ウィザードに従ってインストールします。\n",
    "\n",
    "- 64ビット版: [Windows x86-64 executable installer](https://www.python.org/ftp/python/3.6.6/python-3.6.6-amd64.exe>)  \n",
    "- 32ビット版: [Windows x86 executable installer](https://www.python.org/ftp/python/3.6.6/python-3.6.6.exe)\n",
    "\n",
    "この時、「Add Python 3.6 to PATH」にチェックを入れておきましょう。自動的に必要な環境変数が設定されます（[Python for Windowsのインストール画面](#windows-install)）。"
   ]
  },
  {
   "cell_type": "markdown",
   "metadata": {},
   "source": [
    "<a id=\"windows-install\"></a>\n",
    "![_windows-install](images/pythonforwindows1.png)\n",
    " <center>Python for Windowsのインストール画面</center>\n",
    "\n",
    "インストールが完了したらPythonのバージョンが3.6.6になっていることを確認します（[リスト1.2](#check-version-win)）。\n",
    "\n",
    "<a id=\"check-version-win\"></a>\n",
    "#### リスト1.2 Pythonのバージョンを確認\n",
    "```doscon\n",
    "   C:\\Users\\user>python -V\n",
    "   Python 3.6.6\n",
    "```"
   ]
  },
  {
   "cell_type": "markdown",
   "metadata": {},
   "source": [
    "<a id=\"Install-Linux\"></a>"
   ]
  },
  {
   "cell_type": "markdown",
   "metadata": {},
   "source": [
    "### 1.3.3 Linux（Ubuntu Server）の場合\n",
    "***\n",
    "Ubuntu 18.04にはデフォルトでPython 3.6.5がインストールされています。\n",
    "以下のコマンドでPythonのバージョンを確認します（[リスト1.3](#linux-check-version)）。\n",
    "\n",
    "<a id=\"linux-check-version\"></a>\n",
    "#### リスト1.3 Pythonのバージョンを確認\n",
    "```bash\n",
    "   $ python3 -V\n",
    "   Python 3.6.5\n",
    "```"
   ]
  },
  {
   "cell_type": "markdown",
   "metadata": {},
   "source": [
    "## 1.4. 注意事項\n",
    "***\n",
    "これ以降の本テキストでは上記手順でインストールしたPython 3.6以降を使用することを前提に記載しています。\n",
    "\n",
    "Python 2.7等のPython2系やAnacondaでインストールしたPythonでは実習ができません。\n",
    "\n",
    "Pythonを起動した時に表示される文字をチェックして、下記が問題ないか確認してください。\n",
    "\n",
    "- Pythonのバージョン(3.6以上であること)\n",
    "- Anacondaという文字が表示されないこと\n",
    "\n",
    "インストールされていない場合は前述の手順でPython3.6のインストールを行ってください。"
   ]
  },
  {
   "cell_type": "markdown",
   "metadata": {},
   "source": [
    "## 1.5. まとめ\n",
    "***\n",
    "本節では、事前準備としてエディタ、コマンドラインとPython のインストール方法を紹介しました。\n",
    "次節ではFizzBuzzを通じたPythonの特徴、基本、役立つWeb の情報、書籍を紹介します。"
   ]
  },
  {
   "cell_type": "code",
   "execution_count": null,
   "metadata": {},
   "outputs": [],
   "source": []
  }
 ],
 "metadata": {
  "kernelspec": {
   "display_name": "Python 3",
   "language": "python",
   "name": "python3"
  },
  "language_info": {
   "codemirror_mode": {
    "name": "ipython",
    "version": 3
   },
   "file_extension": ".py",
   "mimetype": "text/x-python",
   "name": "python",
   "nbconvert_exporter": "python",
   "pygments_lexer": "ipython3",
   "version": "3.6.5"
  }
 },
 "nbformat": 4,
 "nbformat_minor": 2
}
