{
 "cells": [
  {
   "cell_type": "markdown",
   "metadata": {},
   "source": [
    "# 3. Pythonのデータ型（基本編）\n",
    "***\n",
    "### 基本になるデータ型の紹介\n",
    "\n",
    "代表的なPythonのデータ型と、便利な使い方を紹介します。\n",
    "\n",
    "それぞれのデータ型の紹介で、「これだけは知っておくとよいよ」という機能を挙げます。"
   ]
  },
  {
   "cell_type": "markdown",
   "metadata": {},
   "source": [
    "<a id=\"Built-in-Types\"></a>"
   ]
  },
  {
   "cell_type": "markdown",
   "metadata": {},
   "source": [
    "## 3.1. はじめに\n",
    "***\n",
    "本節では整数型（``int``）、浮動小数点型（``float``）、文字列型（``str``）を扱います。\n",
    "\n",
    "データ型については、Pythonの公式ドキュメントも参考にしてください。\n",
    "\n",
    "* 組み込み型 https://docs.python.org/ja/3/library/stdtypes.html"
   ]
  },
  {
   "cell_type": "markdown",
   "metadata": {},
   "source": [
    "<a id=\"Built-in-Types-int\"></a>"
   ]
  },
  {
   "cell_type": "markdown",
   "metadata": {},
   "source": [
    "## 3.2 整数型（int）\n",
    "\n",
    "整数を扱うには、整数型（``int``）を使います。\n",
    "\n",
    "主な演算子には、前節で説明した四則演算（``+``、``-``、``*``、``/``）と剰余（``%``）の他に、累乗（``**``）があります（[リスト3.1](#type-int)）。\n",
    "\n",
    "<a id=\"type-int\"></a>\n",
    "\n",
    "#### リスト3.1 整数型"
   ]
  },
  {
   "cell_type": "code",
   "execution_count": 52,
   "metadata": {},
   "outputs": [
    {
     "data": {
      "text/plain": [
       "4"
      ]
     },
     "execution_count": 52,
     "metadata": {},
     "output_type": "execute_result"
    }
   ],
   "source": [
    "2 + 2"
   ]
  },
  {
   "cell_type": "code",
   "execution_count": 53,
   "metadata": {},
   "outputs": [
    {
     "data": {
      "text/plain": [
       "-5"
      ]
     },
     "execution_count": 53,
     "metadata": {},
     "output_type": "execute_result"
    }
   ],
   "source": [
    "3 - 8"
   ]
  },
  {
   "cell_type": "code",
   "execution_count": 54,
   "metadata": {},
   "outputs": [
    {
     "data": {
      "text/plain": [
       "54"
      ]
     },
     "execution_count": 54,
     "metadata": {},
     "output_type": "execute_result"
    }
   ],
   "source": [
    "6 * 9"
   ]
  },
  {
   "cell_type": "code",
   "execution_count": 55,
   "metadata": {},
   "outputs": [
    {
     "data": {
      "text/plain": [
       "4.0"
      ]
     },
     "execution_count": 55,
     "metadata": {},
     "output_type": "execute_result"
    }
   ],
   "source": [
    "8 / 2"
   ]
  },
  {
   "cell_type": "code",
   "execution_count": 56,
   "metadata": {},
   "outputs": [
    {
     "data": {
      "text/plain": [
       "1"
      ]
     },
     "execution_count": 56,
     "metadata": {},
     "output_type": "execute_result"
    }
   ],
   "source": [
    "5 % 2"
   ]
  },
  {
   "cell_type": "code",
   "execution_count": 57,
   "metadata": {},
   "outputs": [
    {
     "data": {
      "text/plain": [
       "25"
      ]
     },
     "execution_count": 57,
     "metadata": {},
     "output_type": "execute_result"
    }
   ],
   "source": [
    "5 ** 2"
   ]
  },
  {
   "cell_type": "markdown",
   "metadata": {},
   "source": [
    "割り算の結果は小数点以下も出力されます（[リスト3.2](#divide-int)）。\n",
    "\n",
    "<a id=\"divide-int\"></a>\n",
    "#### リスト3.2 整数型同士の商"
   ]
  },
  {
   "cell_type": "code",
   "execution_count": 22,
   "metadata": {},
   "outputs": [
    {
     "data": {
      "text/plain": [
       "3.3333333333333335"
      ]
     },
     "execution_count": 22,
     "metadata": {},
     "output_type": "execute_result"
    }
   ],
   "source": [
    "10 / 3"
   ]
  },
  {
   "cell_type": "code",
   "execution_count": 23,
   "metadata": {},
   "outputs": [
    {
     "data": {
      "text/plain": [
       "2.5"
      ]
     },
     "execution_count": 23,
     "metadata": {},
     "output_type": "execute_result"
    }
   ],
   "source": [
    "10 / 4"
   ]
  },
  {
   "cell_type": "code",
   "execution_count": 24,
   "metadata": {},
   "outputs": [
    {
     "data": {
      "text/plain": [
       "-2.5"
      ]
     },
     "execution_count": 24,
     "metadata": {},
     "output_type": "execute_result"
    }
   ],
   "source": [
    "-10 / 4"
   ]
  },
  {
   "cell_type": "markdown",
   "metadata": {},
   "source": [
    "割り算の結果を整数で取得したい場合は ``//`` 演算子を使用します（[リスト3.3](#double-slash)）。\n",
    "その場合は、小数点以下は切り捨てられます。\n",
    "\n",
    "<a id=\"double-slash\"></a>\n",
    "#### リスト3.3 //での割り算"
   ]
  },
  {
   "cell_type": "code",
   "execution_count": 25,
   "metadata": {},
   "outputs": [
    {
     "data": {
      "text/plain": [
       "3"
      ]
     },
     "execution_count": 25,
     "metadata": {},
     "output_type": "execute_result"
    }
   ],
   "source": [
    "10 // 3"
   ]
  },
  {
   "cell_type": "code",
   "execution_count": 26,
   "metadata": {},
   "outputs": [
    {
     "data": {
      "text/plain": [
       "2"
      ]
     },
     "execution_count": 26,
     "metadata": {},
     "output_type": "execute_result"
    }
   ],
   "source": [
    "10 // 4"
   ]
  },
  {
   "cell_type": "code",
   "execution_count": 27,
   "metadata": {},
   "outputs": [
    {
     "data": {
      "text/plain": [
       "-3"
      ]
     },
     "execution_count": 27,
     "metadata": {},
     "output_type": "execute_result"
    }
   ],
   "source": [
    "-10 // 4"
   ]
  },
  {
   "cell_type": "markdown",
   "metadata": {},
   "source": [
    "<a id=\"Built-in-Types-float\"></a>"
   ]
  },
  {
   "cell_type": "markdown",
   "metadata": {},
   "source": [
    "## 3.2 浮動小数点型（float）\n",
    "小数を扱うには浮動小数点型（``float``）を使います。\n",
    "\n",
    "整数型と同様の演算子が使えます（[リスト3.4](#type-float)）。\n",
    "\n",
    "<a id=\"type-float\"></a>\n",
    "#### リスト3.4 浮動小数点型"
   ]
  },
  {
   "cell_type": "code",
   "execution_count": 28,
   "metadata": {},
   "outputs": [
    {
     "data": {
      "text/plain": [
       "5.0"
      ]
     },
     "execution_count": 28,
     "metadata": {},
     "output_type": "execute_result"
    }
   ],
   "source": [
    "5.0"
   ]
  },
  {
   "cell_type": "code",
   "execution_count": 29,
   "metadata": {},
   "outputs": [
    {
     "data": {
      "text/plain": [
       "10.2"
      ]
     },
     "execution_count": 29,
     "metadata": {},
     "output_type": "execute_result"
    }
   ],
   "source": [
    "5.0 + 5.2"
   ]
  },
  {
   "cell_type": "code",
   "execution_count": 30,
   "metadata": {},
   "outputs": [
    {
     "data": {
      "text/plain": [
       "18.2"
      ]
     },
     "execution_count": 30,
     "metadata": {},
     "output_type": "execute_result"
    }
   ],
   "source": [
    "10.2 + 8"
   ]
  },
  {
   "cell_type": "markdown",
   "metadata": {},
   "source": [
    "浮動小数点型と整数型との計算は浮動小数点型を返します。"
   ]
  },
  {
   "cell_type": "markdown",
   "metadata": {},
   "source": [
    "<a id=\"Built-in-Types-str\"></a>"
   ]
  },
  {
   "cell_type": "markdown",
   "metadata": {},
   "source": [
    "## 3.4 文字列型（str）\n",
    "\n",
    "文字列を使うには文字列型（``str``）を使います。\n",
    "\n",
    "[リスト3.5](#type-str) のように、シングルクォート（``'``）かダブルクォート（``\"``）の間に文字を入力します。\n",
    "シングルクォート、ダブルクォートのどちらで書いても機能的な違いはありません。\n",
    "\n",
    "<a id=\"type-str\"></a>\n",
    "#### リスト3.5 文字列型"
   ]
  },
  {
   "cell_type": "code",
   "execution_count": 31,
   "metadata": {},
   "outputs": [
    {
     "data": {
      "text/plain": [
       "'Hello,world'"
      ]
     },
     "execution_count": 31,
     "metadata": {},
     "output_type": "execute_result"
    }
   ],
   "source": [
    "'Hello,world'"
   ]
  },
  {
   "cell_type": "code",
   "execution_count": 32,
   "metadata": {},
   "outputs": [
    {
     "data": {
      "text/plain": [
       "'Hello,world'"
      ]
     },
     "execution_count": 32,
     "metadata": {},
     "output_type": "execute_result"
    }
   ],
   "source": [
    "\"Hello,world\""
   ]
  },
  {
   "cell_type": "markdown",
   "metadata": {},
   "source": [
    "<a id=\"escape\"></a>"
   ]
  },
  {
   "cell_type": "markdown",
   "metadata": {},
   "source": [
    "### 3.4.1 文字のエスケープ\n",
    "\n",
    "文字列中にクォート文字やその他の特殊な文字を含めたい場合は、バックスラッシュ（``\\``）でエスケープします。\n",
    "\n",
    "たとえば、シングルクォートで囲まれた文字列中では、シングルクォートを ``\\'`` と書き、改行文字を ``\\n`` と書きます（[リスト3.6](#escape-string)）。\n",
    "\n",
    "<a id=\"escape-string\"></a>\n",
    "#### リスト3.6 文字列中のエスケープ"
   ]
  },
  {
   "cell_type": "code",
   "execution_count": 33,
   "metadata": {},
   "outputs": [
    {
     "name": "stdout",
     "output_type": "stream",
     "text": [
      "I'm Hiroki\n"
     ]
    }
   ],
   "source": [
    "print('I\\'m Hiroki')"
   ]
  },
  {
   "cell_type": "code",
   "execution_count": 34,
   "metadata": {},
   "outputs": [
    {
     "name": "stdout",
     "output_type": "stream",
     "text": [
      "Hello\n",
      "world\n"
     ]
    }
   ],
   "source": [
    "print('Hello\\nworld')"
   ]
  },
  {
   "cell_type": "markdown",
   "metadata": {},
   "source": [
    "文字列がシングルクォートを含み、ダブルクォートを含まない場合は、ダブルクォートで囲むと見やすいです（[リスト3.7](#single-quote)）。\n",
    "\n",
    "<a id=\"single-quote\"></a>\n",
    "#### リスト3.7 シングルクォートを含む文字列"
   ]
  },
  {
   "cell_type": "code",
   "execution_count": 35,
   "metadata": {},
   "outputs": [
    {
     "name": "stdout",
     "output_type": "stream",
     "text": [
      "I'm Hiroki\n"
     ]
    }
   ],
   "source": [
    "print(\"I'm Hiroki\")"
   ]
  },
  {
   "cell_type": "markdown",
   "metadata": {},
   "source": [
    "<a id=\"triple-quoted strings\"></a>"
   ]
  },
  {
   "cell_type": "markdown",
   "metadata": {},
   "source": [
    "### 3.4.2. 三重クォート\n",
    "改行を含む文字列を一度に定義するには、三重クォート（クォート文字3つ）で文字列を囲みます。\n",
    "\n",
    "シングルクォートの場合は ``'''`` 、ダブルクォートの場合は ``\"\"\"`` です（[リスト3.8](#triple-quote)）。\n",
    "\n",
    "<a id=\"triple-quote\"></a>\n",
    "#### リスト3.8 三重クォート"
   ]
  },
  {
   "cell_type": "code",
   "execution_count": 39,
   "metadata": {},
   "outputs": [
    {
     "data": {
      "text/plain": [
       "'foo\\nbar\\nbaz\\n'"
      ]
     },
     "execution_count": 39,
     "metadata": {},
     "output_type": "execute_result"
    }
   ],
   "source": [
    "\"\"\"foo\n",
    "bar\n",
    "baz\n",
    "\"\"\""
   ]
  },
  {
   "cell_type": "markdown",
   "metadata": {},
   "source": [
    "<a id=\"concatenation\"></a>"
   ]
  },
  {
   "cell_type": "markdown",
   "metadata": {},
   "source": [
    "### 3.4.3. 文字列の結合と繰り返し\n",
    "\n",
    "文字列型同士を結合するには、プラス記号（``+``）を使います（[リスト3.9](#join-string)）。\n",
    "\n",
    "アスタリスク（``*``）を使って繰り返した文字列を取得できます。\n",
    "\n",
    "アスタリスクの左に繰り返したい文字列を、右に繰り返し回数を整数型で指定します（[リスト3.10](#multi-string)）。\n",
    "\n",
    "<a id=\"join-string\"></a>\n",
    "#### リスト3.9 文字列の結合"
   ]
  },
  {
   "cell_type": "code",
   "execution_count": 40,
   "metadata": {},
   "outputs": [
    {
     "data": {
      "text/plain": [
       "'Mt.Fuji'"
      ]
     },
     "execution_count": 40,
     "metadata": {},
     "output_type": "execute_result"
    }
   ],
   "source": [
    "'Mt.' + 'Fuji'"
   ]
  },
  {
   "cell_type": "markdown",
   "metadata": {},
   "source": [
    "<a id=\"multi-string\"></a>"
   ]
  },
  {
   "cell_type": "markdown",
   "metadata": {},
   "source": [
    "#### リスト3.10 文字列の繰り返し"
   ]
  },
  {
   "cell_type": "code",
   "execution_count": 58,
   "metadata": {},
   "outputs": [
    {
     "data": {
      "text/plain": [
       "'spamspamspamspamspam'"
      ]
     },
     "execution_count": 58,
     "metadata": {},
     "output_type": "execute_result"
    }
   ],
   "source": [
    "'spam' * 5"
   ]
  },
  {
   "cell_type": "markdown",
   "metadata": {},
   "source": [
    "<a id=\"index\"></a>"
   ]
  },
  {
   "cell_type": "markdown",
   "metadata": {},
   "source": [
    "### 3.4.4. インデックス表記\n",
    "\n",
    "文字列のある位置を指定して1文字を取り出す機能です。\n",
    "\n",
    "<a id=\"string-index\"></a>\n",
    "#### リスト3.11 文字列から1文字取り出し"
   ]
  },
  {
   "cell_type": "code",
   "execution_count": 42,
   "metadata": {},
   "outputs": [
    {
     "data": {
      "text/plain": [
       "'y'"
      ]
     },
     "execution_count": 42,
     "metadata": {},
     "output_type": "execute_result"
    }
   ],
   "source": [
    "'python'[1]"
   ]
  },
  {
   "cell_type": "markdown",
   "metadata": {},
   "source": [
    "文字列から1文字を取り出すには、 [リスト3.11](#string-index\") のように書きます。\n",
    "\n",
    "[リスト3.11](#string-index\") では、文字列の先頭文字を0として数えた1の位置にある文字、 ``'y'`` が返されています。\n",
    "\n",
    "この位置をインデックスと呼びます。インデックスには負数も使えます。[下図](#index-image) のようになります。\n",
    "\n",
    "<a id=\"index-image\"></a>\n",
    "\n",
    "![インデックス](images/indexing.png)\n",
    "    インデックス"
   ]
  },
  {
   "cell_type": "markdown",
   "metadata": {},
   "source": [
    "<a id=\"String-slice\"></a>"
   ]
  },
  {
   "cell_type": "markdown",
   "metadata": {},
   "source": [
    "### 3.4.5. スライス\n",
    "\n",
    "Pythonのスライスを使えば、 [リスト3.12](#slice-string) のように、2、3、4番目の文字 ``'tho'`` という文字列を取り出せます。\n",
    "\n",
    "\n",
    "<a id=\"slice-string\"></a>\n",
    "#### リスト3.12 文字列のスライス"
   ]
  },
  {
   "cell_type": "code",
   "execution_count": 43,
   "metadata": {},
   "outputs": [
    {
     "data": {
      "text/plain": [
       "'tho'"
      ]
     },
     "execution_count": 43,
     "metadata": {},
     "output_type": "execute_result"
    }
   ],
   "source": [
    "'python'[2:5]"
   ]
  },
  {
   "cell_type": "markdown",
   "metadata": {},
   "source": [
    "取り出す文字列の位置は、整数型を2つ、コロン（``:``）で挟んで指定します。\n",
    "\n",
    "指定する位置は、「（取り出す文字列に）含める文字の開始位置のインデックス」から「含めずに切り捨てる文字の開始位置のインデックス」と考えられます。\n",
    "\n",
    "[リスト3.12](#slice-string) の場合、「インデックスが2の位置の ``'t'`` から始まり、インデックスが5の位置の ``'n'`` 以降を切り捨てた」文字列、 ``'tho'`` が返されます。\n",
    "\n",
    "また先頭や末尾を含む文字列のスライスは、 [リスト3.13](#slice-stirng2) のように切り出し、切り捨て位置を省略して指定します。\n",
    "\n",
    "<a id=\"slice-stirng2\"></a>\n",
    "####  リスト3.13 先頭末尾からのスライス"
   ]
  },
  {
   "cell_type": "code",
   "execution_count": 44,
   "metadata": {},
   "outputs": [
    {
     "data": {
      "text/plain": [
       "'pyt'"
      ]
     },
     "execution_count": 44,
     "metadata": {},
     "output_type": "execute_result"
    }
   ],
   "source": [
    "'python'[:3]"
   ]
  },
  {
   "cell_type": "code",
   "execution_count": 45,
   "metadata": {},
   "outputs": [
    {
     "data": {
      "text/plain": [
       "'on'"
      ]
     },
     "execution_count": 45,
     "metadata": {},
     "output_type": "execute_result"
    }
   ],
   "source": [
    "'python'[4:]"
   ]
  },
  {
   "cell_type": "markdown",
   "metadata": {},
   "source": [
    "<a id=\"String-len\"></a>"
   ]
  },
  {
   "cell_type": "markdown",
   "metadata": {},
   "source": [
    "### 3.4.6. 文字列の長さ（len()関数）\n",
    "\n",
    "　文字列の長さを調べるには、 ``len()`` 関数を使います。\n",
    "戻り値は整数型です（[リスト3.14](#guide-len)）。\n",
    "\n",
    "<a id=\"guide-len\"></a>\n",
    "#### リスト3.14 文字列長の取得"
   ]
  },
  {
   "cell_type": "code",
   "execution_count": 46,
   "metadata": {},
   "outputs": [
    {
     "data": {
      "text/plain": [
       "6"
      ]
     },
     "execution_count": 46,
     "metadata": {},
     "output_type": "execute_result"
    }
   ],
   "source": [
    "len('python') "
   ]
  },
  {
   "cell_type": "markdown",
   "metadata": {},
   "source": [
    "<a id=\"String-in\"></a>"
   ]
  },
  {
   "cell_type": "markdown",
   "metadata": {},
   "source": [
    "### 3.4.7. 文字列の有無（in）\n",
    "\n",
    "文字列中にある文字列が存在するかどうかを調べるには、 ``in`` を使います（[リスト3.15](#guide-in)）。\n",
    "\n",
    "<a id=\"guide-in\"></a>\n",
    "#### リスト3.15 文字列中にある文字列が存在するかのチェック"
   ]
  },
  {
   "cell_type": "code",
   "execution_count": 47,
   "metadata": {},
   "outputs": [
    {
     "data": {
      "text/plain": [
       "True"
      ]
     },
     "execution_count": 47,
     "metadata": {},
     "output_type": "execute_result"
    }
   ],
   "source": [
    "'t' in 'python'"
   ]
  },
  {
   "cell_type": "code",
   "execution_count": 48,
   "metadata": {},
   "outputs": [
    {
     "data": {
      "text/plain": [
       "False"
      ]
     },
     "execution_count": 48,
     "metadata": {},
     "output_type": "execute_result"
    }
   ],
   "source": [
    "'k' in 'python'\n",
    " "
   ]
  },
  {
   "cell_type": "code",
   "execution_count": 49,
   "metadata": {},
   "outputs": [
    {
     "data": {
      "text/plain": [
       "True"
      ]
     },
     "execution_count": 49,
     "metadata": {},
     "output_type": "execute_result"
    }
   ],
   "source": [
    "'th' in 'python'"
   ]
  },
  {
   "cell_type": "markdown",
   "metadata": {},
   "source": [
    "<a id=\"String-split\"></a>"
   ]
  },
  {
   "cell_type": "markdown",
   "metadata": {},
   "source": [
    "### 3.4.8. 文字列の分割（.split（）メソッド）\n",
    "\n",
    "文字列を分割するには、 ``.split()`` メソッドを使います。\n",
    "\n",
    "分割したい文字列に対してメソッドを呼び出し、引数に区切り文字（デリミタ）を指定します。\n",
    "\n",
    "ハイフンで文字列を区切るには、 [リスト3.16](#guide-split) のようにします。\n",
    "\n",
    "<a id=\"guide-split\"></a>\n",
    "#### リスト3.16 文字列の分割"
   ]
  },
  {
   "cell_type": "code",
   "execution_count": 50,
   "metadata": {},
   "outputs": [
    {
     "data": {
      "text/plain": [
       "['pain', 'au', 'chocolat']"
      ]
     },
     "execution_count": 50,
     "metadata": {},
     "output_type": "execute_result"
    }
   ],
   "source": [
    "'pain-au-chocolat'.split('-')"
   ]
  },
  {
   "cell_type": "markdown",
   "metadata": {},
   "source": [
    "<a id=\"String-join\"></a>"
   ]
  },
  {
   "cell_type": "markdown",
   "metadata": {},
   "source": [
    "### 3.4.9. 区切り文字による文字列の結合（.join（）メソッド）\n",
    "\n",
    "文字列を区切り文字で結合するには、 ``.join()`` メソッドを使います。\n",
    "\n",
    "区切り文字に対してメソッドを呼び出し、引数に結合したい文字列のリストを指定します（[リスト3.17](#guide-join)）。\n",
    "\n",
    "<a id=\"guide-join\"></a>\n",
    "#### リスト3.17 文字列の結合"
   ]
  },
  {
   "cell_type": "code",
   "execution_count": 51,
   "metadata": {},
   "outputs": [
    {
     "data": {
      "text/plain": [
       "'pain-de-campagne'"
      ]
     },
     "execution_count": 51,
     "metadata": {},
     "output_type": "execute_result"
    }
   ],
   "source": [
    "'-'.join(['pain', 'de', 'campagne'])"
   ]
  },
  {
   "cell_type": "markdown",
   "metadata": {},
   "source": [
    "## 3.5. まとめ\n",
    "代表的なPythonのデータ型と、便利な使い方を紹介しました。\n",
    "型の特徴と機能を最大限に活用して開発を進めましょう。"
   ]
  }
 ],
 "metadata": {
  "kernelspec": {
   "display_name": "Python 3",
   "language": "python",
   "name": "python3"
  },
  "language_info": {
   "codemirror_mode": {
    "name": "ipython",
    "version": 3
   },
   "file_extension": ".py",
   "mimetype": "text/x-python",
   "name": "python",
   "nbconvert_exporter": "python",
   "pygments_lexer": "ipython3",
   "version": "3.6.5"
  }
 },
 "nbformat": 4,
 "nbformat_minor": 2
}
