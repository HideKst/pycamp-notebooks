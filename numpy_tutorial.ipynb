{
 "cells": [
  {
   "cell_type": "markdown",
   "metadata": {},
   "source": [
    "# Numpy入門"
   ]
  },
  {
   "cell_type": "markdown",
   "metadata": {},
   "source": [
    "Adapted by [Volodymyr Kuleshov](http://web.stanford.edu/~kuleshov/) and [Isaac Caswell](https://symsys.stanford.edu/viewing/symsysaffiliate/21335) from the `CS231n` Python tutorial by Justin Johnson (http://cs231n.github.io/python-numpy-tutorial/).  \n",
    "Partially translated to Japanese by [Masatoshi Itagaki](http://rails.to/)."
   ]
  },
  {
   "cell_type": "markdown",
   "metadata": {},
   "source": [
    "## Numpy"
   ]
  },
  {
   "cell_type": "markdown",
   "metadata": {},
   "source": [
    "Numpy は Python　での科学計算の中核となるライブラリです。Numpy　には高性能な多次元配列オブジェクトとそれを使うためのツールが用意されています。  \n",
    "MATLABをご存知の方がNumpyを始める際には、この[チュートリアル](http://wiki.scipy.org/NumPy_for_Matlab_Users)が良いかもしれません。"
   ]
  },
  {
   "cell_type": "markdown",
   "metadata": {},
   "source": [
    "Numpy　を使うためには、まず`numpy` パッケージをインポートする必要があります。"
   ]
  },
  {
   "cell_type": "code",
   "execution_count": null,
   "metadata": {},
   "outputs": [],
   "source": [
    "import numpy as np"
   ]
  },
  {
   "cell_type": "markdown",
   "metadata": {},
   "source": [
    "### 配列"
   ]
  },
  {
   "cell_type": "markdown",
   "metadata": {},
   "source": [
    "Numpy配列はすべて同じ型の値を持ち、0以上の整数のタプルで表されるインデックスによってアクセスされる、格子状のデータ構造です。次元の数は配列の階数であり、配列の形状はそれぞれの次元における配列のサイズを表す整数のタプルです。"
   ]
  },
  {
   "cell_type": "markdown",
   "metadata": {},
   "source": [
    "入れ子になったPythonのリストからNumpy配列を初期化することができ、要素には角括弧を使ってアクセスします。"
   ]
  },
  {
   "cell_type": "code",
   "execution_count": null,
   "metadata": {},
   "outputs": [],
   "source": [
    "a = np.array([1, 2, 3])  # 階数１の配列を作る\n",
    "print(type(a), a.shape, a[0], a[1], a[2])\n",
    "a[0] = 5                 # 配列の要素を変更する\n",
    "print(a)                  "
   ]
  },
  {
   "cell_type": "code",
   "execution_count": null,
   "metadata": {},
   "outputs": [],
   "source": [
    "b = np.array([[1,2,3],[4,5,6]])   # 階数２の配列を作る\n",
    "print(b)"
   ]
  },
  {
   "cell_type": "code",
   "execution_count": null,
   "metadata": {},
   "outputs": [],
   "source": [
    "print(b.shape)                   \n",
    "print(b[0, 0], b[0, 1], b[1, 0])"
   ]
  },
  {
   "cell_type": "markdown",
   "metadata": {},
   "source": [
    "Numpy には配列を作るための関数がたくさん用意されています。"
   ]
  },
  {
   "cell_type": "code",
   "execution_count": null,
   "metadata": {},
   "outputs": [],
   "source": [
    "a = np.zeros((2,2))  # すべてゼロの配列を作る\n",
    "print(a)"
   ]
  },
  {
   "cell_type": "code",
   "execution_count": null,
   "metadata": {},
   "outputs": [],
   "source": [
    "b = np.ones((1,2))   # すべて１の配列を作る\n",
    "print(b)"
   ]
  },
  {
   "cell_type": "code",
   "execution_count": null,
   "metadata": {},
   "outputs": [],
   "source": [
    "c = np.full((2,2), 7) # すべて同じ値の配列を作る\n",
    "print(c) "
   ]
  },
  {
   "cell_type": "code",
   "execution_count": null,
   "metadata": {},
   "outputs": [],
   "source": [
    "d = np.eye(2)        # 2x2 の単位行列を作る\n",
    "print(d)"
   ]
  },
  {
   "cell_type": "code",
   "execution_count": null,
   "metadata": {},
   "outputs": [],
   "source": [
    "e = np.random.random((2,2)) # 乱数を埋め込んだ配列を作る\n",
    "print(e)"
   ]
  },
  {
   "cell_type": "markdown",
   "metadata": {},
   "source": [
    "### 配列のインデクシング"
   ]
  },
  {
   "cell_type": "markdown",
   "metadata": {},
   "source": [
    "Numpyにはいろいろなインデクシング（索引による操作）の方法があります。"
   ]
  },
  {
   "cell_type": "markdown",
   "metadata": {},
   "source": [
    "スライシング： Pythonのリストと同様に、Numpy配列もスライシングができます。配列は多次元にもできるので、スライシングの際には各次元で指定する必要があります。"
   ]
  },
  {
   "cell_type": "code",
   "execution_count": null,
   "metadata": {},
   "outputs": [],
   "source": [
    "import numpy as np\n",
    "\n",
    "# 下記のような形状が (3, 4)の２階の配列を作ります\n",
    "# [[ 1  2  3  4]\n",
    "#  [ 5  6  7  8]\n",
    "#  [ 9 10 11 12]]\n",
    "a = np.array([[1,2,3,4], [5,6,7,8], [9,10,11,12]])\n",
    "\n",
    "# スライシングを使って最初の２行の列１と２からなる部分配列を取り出します\n",
    "# ｂは形状が(2, 2)の下記のような配列となります\n",
    "# [[2 3]\n",
    "#  [6 7]]\n",
    "b = a[:2, 1:3]\n",
    "print(b)"
   ]
  },
  {
   "cell_type": "markdown",
   "metadata": {},
   "source": [
    "配列のスライスは同じデータのビューであるため、スライスを変更すると元の配列が変更されます。"
   ]
  },
  {
   "cell_type": "code",
   "execution_count": null,
   "metadata": {},
   "outputs": [],
   "source": [
    "print(a[0, 1])  \n",
    "b[0, 0] = 77    # b[0, 0] は a[0, 1]と同じデータです\n",
    "print(a[0, 1]) "
   ]
  },
  {
   "cell_type": "markdown",
   "metadata": {},
   "source": [
    "配列のスライスを新たな配列として生成するには、copy()メソッドを使う方法があります。"
   ]
  },
  {
   "cell_type": "code",
   "execution_count": null,
   "metadata": {},
   "outputs": [],
   "source": [
    "# 下記のような形状が (3, 4)の２階の配列を作ります\n",
    "# [[ 1  2  3  4]\n",
    "#  [ 5  6  7  8]\n",
    "#  [ 9 10 11 12]]\n",
    "a = np.array([[1,2,3,4], [5,6,7,8], [9,10,11,12]])\n",
    "\n",
    "# スライシングを使って最初の２行の列１と２からなる部分配列を取り出し\n",
    "# その複製をcに保存します\n",
    "# ｃは形状が(2, 2)の下記のような配列となります\n",
    "# [[2 3]\n",
    "#  [6 7]]\n",
    "c = a[:2, 1:3].copy()\n",
    "print(c)"
   ]
  },
  {
   "cell_type": "code",
   "execution_count": null,
   "metadata": {},
   "outputs": [],
   "source": [
    "print(a[0, 1])  \n",
    "c[0, 0] = 77    # c[0, 0] は a[0, 1]とは別のデータです\n",
    "print(a[0, 1]) \n",
    "print(c)"
   ]
  },
  {
   "cell_type": "markdown",
   "metadata": {},
   "source": [
    "スライシングに3つ目の整数を指定することで、飛び飛びの選択も可能です。"
   ]
  },
  {
   "cell_type": "code",
   "execution_count": null,
   "metadata": {},
   "outputs": [],
   "source": [
    "a = np.array([1, 2, 3, 4, 5, 6, 7, 8, 9, 10, 11, 12])\n",
    "\n",
    "b = a[1:11:2]\n",
    "print(b)"
   ]
  },
  {
   "cell_type": "markdown",
   "metadata": {},
   "source": [
    "スライスによるインデクシングと整数によるインデクシングを併用できます。ただし、その結果として、元の配列よりも低い階数の配列が得られることになります。これは、MATLABが配列のスライシングを扱う方法とは全く異なっているため注意が必要です。"
   ]
  },
  {
   "cell_type": "code",
   "execution_count": null,
   "metadata": {},
   "outputs": [],
   "source": [
    "# 下記のような形状(3, 4)の２階の配列を作ります\n",
    "a = np.array([[1,2,3,4], [5,6,7,8], [9,10,11,12]])\n",
    "print(a)"
   ]
  },
  {
   "cell_type": "markdown",
   "metadata": {},
   "source": [
    "上記の配列の真ん中の行にアクセスする２つの方法です。  \n",
    "整数インデクシングとスライシングを併用すると、低い階数の配列が得られる一方、スライシングのみを使用すると、元の配列と同じ階数の配列となります。"
   ]
  },
  {
   "cell_type": "code",
   "execution_count": null,
   "metadata": {},
   "outputs": [],
   "source": [
    "row_r1 = a[1, :]    # a の２行目の階数１のビュー  \n",
    "row_r2 = a[1:2, :]  # a の２行目の階数２のビュー\n",
    "row_r3 = a[[1], :]  # a の２行目の階数２のビュー\n",
    "print(row_r1, row_r1.shape) \n",
    "print(row_r2, row_r2.shape)\n",
    "print(row_r3, row_r3.shape)"
   ]
  },
  {
   "cell_type": "code",
   "execution_count": null,
   "metadata": {},
   "outputs": [],
   "source": [
    "# 配列の列にアクセスするときも同様です\n",
    "col_r1 = a[:, 1]\n",
    "col_r2 = a[:, 1:2]\n",
    "print(col_r1, col_r1.shape)\n",
    "print()\n",
    "print(col_r2, col_r2.shape)"
   ]
  },
  {
   "cell_type": "markdown",
   "metadata": {},
   "source": [
    "整数配列インデクシング： Numpy配列に対してスライシングを使ってアクセスする場合、得られる配列のビューは元の配列の部分配列になります。これに対して、整数配列インデクシングを使うと、他の配列のデータを使って任意の配列を作ることができます。  \n",
    "下記に例を示します。\n",
    "\n",
    "整数配列インデクシングのことをファンシーインデクシングと呼ぶこともあります。"
   ]
  },
  {
   "cell_type": "code",
   "execution_count": null,
   "metadata": {},
   "outputs": [],
   "source": [
    "a = np.array([[1,2], [3, 4], [5, 6]])\n",
    "\n",
    "# 整数配列インデクシングの例\n",
    "# 結果の配列は形状 (3,) で\n",
    "print(a[[0, 1, 2], [0, 1, 0]])\n",
    "\n",
    "# 上記の整数配列インデクシングは下記と同じ\n",
    "print(np.array([a[0, 0], a[1, 1], a[2, 0]]))"
   ]
  },
  {
   "cell_type": "code",
   "execution_count": null,
   "metadata": {},
   "outputs": [],
   "source": [
    "# 整数配列インデクシングを使う際には、\n",
    "# 元の配列の同じ要素を再利用できる\n",
    "print(a[[0, 0], [1, 1]])\n",
    "\n",
    "# 上記の整数配列インデクシングの例は下記と同じ\n",
    "print(np.array([a[0, 1], a[0, 1]]))"
   ]
  },
  {
   "cell_type": "markdown",
   "metadata": {},
   "source": [
    "整数配列インデクシングを使ったトリックの一つは、行列の各行から１つずつ要素を選択あるいは更新することです。"
   ]
  },
  {
   "cell_type": "code",
   "execution_count": null,
   "metadata": {},
   "outputs": [],
   "source": [
    "# 要素を選択するための新しい配列を作成\n",
    "a = np.array([[1,2,3], [4,5,6], [7,8,9], [10, 11, 12]])\n",
    "print(a)"
   ]
  },
  {
   "cell_type": "code",
   "execution_count": null,
   "metadata": {},
   "outputs": [],
   "source": [
    "# インデクスの配列を作成\n",
    "b = np.array([0, 2, 0, 1])\n",
    "\n",
    "# ｂに保存されたインデックスを使って各行から１要素を選択\n",
    "print(a[np.arange(4), b])  # \"[ 1  6  7 11]\" が出力される"
   ]
  },
  {
   "cell_type": "code",
   "execution_count": null,
   "metadata": {},
   "outputs": [],
   "source": [
    "# bのインデックスを使って、各行から１要素を変更\n",
    "a[np.arange(4), b] += 10\n",
    "print(a)"
   ]
  },
  {
   "cell_type": "markdown",
   "metadata": {},
   "source": [
    "ブール配列インデクシング: ブール配列インデクシングを使うと、配列の任意の要素を取り出すことができます。この方法は、配列の中から条件を満たす要素を選択する際にしばしば使用されます。例を示します。"
   ]
  },
  {
   "cell_type": "code",
   "execution_count": null,
   "metadata": {},
   "outputs": [],
   "source": [
    "import numpy as np\n",
    "\n",
    "a = np.array([[1,2], [3, 4], [5, 6]])\n",
    "\n",
    "bool_idx = (a > 2)  # a の中で2より大きな要素を見つける;\n",
    "                    # 戻り値は元の配列と同じ形状の真偽値の配列\n",
    "                    # 戻り値の配列の各真偽値が\n",
    "                    # 要素が > 2 であるか否かを表す\n",
    "\n",
    "print(bool_idx)"
   ]
  },
  {
   "cell_type": "code",
   "execution_count": null,
   "metadata": {},
   "outputs": [],
   "source": [
    "# ブール配列インデクシングを使って、bool_idxの値がTrueである要素に\n",
    "# 対応する要素の１階配列を作成できる\n",
    "print(a[bool_idx])\n",
    "\n",
    "# 上記の操作は下記のように１度に簡潔に記述できる\n",
    "print(a[a > 2])"
   ]
  },
  {
   "cell_type": "markdown",
   "metadata": {},
   "source": [
    "ここではNumpy配列のインデクシングの詳細は省略しました。詳しく知りたい方は[ドキュメント](https://docs.scipy.org/doc/numpy/reference/arrays.indexing.html)を参照してください。"
   ]
  },
  {
   "cell_type": "markdown",
   "metadata": {},
   "source": [
    "### データ型"
   ]
  },
  {
   "cell_type": "markdown",
   "metadata": {},
   "source": [
    "Numpy配列はすべて同じデータ型の要素からなる格子状のデータ構造です。Numpyでは多様なデータ型を使って配列を作る事ができます。Numpyは配列を作成する際に、データ型の推定を行いますが、配列を作成する関数には通常明示的にデータ型を指定する引数があります。下記に例を示します。"
   ]
  },
  {
   "cell_type": "code",
   "execution_count": null,
   "metadata": {},
   "outputs": [],
   "source": [
    "x = np.array([1, 2])  # Numpyにデータ型を決めさせる\n",
    "y = np.array([1.0, 2.0])  # Numpyにデータ型を決めさせる\n",
    "z = np.array([1, 2], dtype=np.int64)  # 特定のデータ型を指定\n",
    "\n",
    "print(x.dtype, y.dtype, z.dtype)"
   ]
  },
  {
   "cell_type": "markdown",
   "metadata": {},
   "source": [
    "Numpyで使用できるすべてのデータ型については、[ドキュメント](http://docs.scipy.org/doc/numpy/reference/arrays.dtypes.html)を参照ください。"
   ]
  },
  {
   "cell_type": "markdown",
   "metadata": {},
   "source": [
    "### 配列演算"
   ]
  },
  {
   "cell_type": "markdown",
   "metadata": {},
   "source": [
    "基本的な数学的関数は配列の要素単位に動作します。これらは演算子のオーバーロードとNumpyモジュールの関数の形で提供されています。"
   ]
  },
  {
   "cell_type": "code",
   "execution_count": null,
   "metadata": {},
   "outputs": [],
   "source": [
    "x = np.array([[1,2],[3,4]], dtype=np.float64)\n",
    "y = np.array([[5,6],[7,8]], dtype=np.float64)\n",
    "\n",
    "# 要素ごとの加算：いずれも新しい配列を返す\n",
    "print(x + y)\n",
    "print(np.add(x, y))"
   ]
  },
  {
   "cell_type": "code",
   "execution_count": null,
   "metadata": {},
   "outputs": [],
   "source": [
    "# 要素ごとの差：いずれも新しい配列を返す\n",
    "print(x - y)\n",
    "print(np.subtract(x, y))"
   ]
  },
  {
   "cell_type": "code",
   "execution_count": null,
   "metadata": {},
   "outputs": [],
   "source": [
    "# 要素ごとの積： いずれも新しい配列を返す\n",
    "print(x * y)\n",
    "print(np.multiply(x, y))"
   ]
  },
  {
   "cell_type": "code",
   "execution_count": null,
   "metadata": {},
   "outputs": [],
   "source": [
    "# 要素ごとの割り算： いずれも新しい配列を返す\n",
    "# [[ 0.2         0.33333333]\n",
    "#  [ 0.42857143  0.5       ]]\n",
    "print(x / y)\n",
    "print(np.divide(x, y))"
   ]
  },
  {
   "cell_type": "code",
   "execution_count": null,
   "metadata": {},
   "outputs": [],
   "source": [
    "# 要素ごとの平方根： 新しい配列を返す\n",
    "# [[ 1.          1.41421356]\n",
    "#  [ 1.73205081  2.        ]]\n",
    "print(np.sqrt(x))"
   ]
  },
  {
   "cell_type": "markdown",
   "metadata": {},
   "source": [
    "MATLABと異なり、`*`は行列の積ではなく、要素ごとの積を表すことに注意してください。ベクトルの内積、ベクトルと行列の積、行列同士の積にはドット関数を使用します。ドット演算は、numpyモジュールの関数と配列オブジェクトのインスタンスメソッドの両方の形で提供されています。"
   ]
  },
  {
   "cell_type": "code",
   "execution_count": null,
   "metadata": {},
   "outputs": [],
   "source": [
    "x = np.array([[1,2],[3,4]])\n",
    "y = np.array([[5,6],[7,8]])\n",
    "\n",
    "v = np.array([9,10])\n",
    "w = np.array([11, 12])\n",
    "\n",
    "#  ベクトルの内積： いずれも 219\n",
    "print(v.dot(w))\n",
    "print(np.dot(v, w))"
   ]
  },
  {
   "cell_type": "code",
   "execution_count": null,
   "metadata": {},
   "outputs": [],
   "source": [
    "# 行列とベクトルの積： どちらも階数1の配列[29 67]\n",
    "print(x.dot(v))\n",
    "print(np.dot(x, v))"
   ]
  },
  {
   "cell_type": "code",
   "execution_count": null,
   "metadata": {},
   "outputs": [],
   "source": [
    "# 行列と行列の積： どちらも階数２の配列\n",
    "# [[19 22]\n",
    "#  [43 50]]\n",
    "print(x.dot(y))\n",
    "print(np.dot(x, y))"
   ]
  },
  {
   "cell_type": "markdown",
   "metadata": {},
   "source": [
    "Numpyには配列に対して様々な演算を行う関数が用意されています。最も有用なものの一つが`sum`です。"
   ]
  },
  {
   "cell_type": "code",
   "execution_count": null,
   "metadata": {},
   "outputs": [],
   "source": [
    "x = np.array([[1,2],[3,4]])\n",
    "\n",
    "print(np.sum(x))  # すべての要素の合計： 結果は”10\"\n",
    "print(np.sum(x, axis=0))  # 各列の合計： 結果は\"[4 6]\"\n",
    "print(np.sum(x, axis=1))  # 各行の合計： 結果は\"[3 7]\""
   ]
  },
  {
   "cell_type": "markdown",
   "metadata": {},
   "source": [
    "Numpyで提供されている数学的関数の全リストについては[ドキュメント](http://docs.scipy.org/doc/numpy/reference/routines.math.html)を参照ください。\n",
    "\n",
    "配列を使った数学的関数計算以外に、しばしば配列の形状を変えたり（リシェープ）、配列内のデータを操作する必要があります。こうした操作の中の一番単純な例が、行列の転置です。行列の転置行列を得るには、配列オブジェクトのT属性を使います。"
   ]
  },
  {
   "cell_type": "code",
   "execution_count": null,
   "metadata": {},
   "outputs": [],
   "source": [
    "print(x)\n",
    "print(x.T)"
   ]
  },
  {
   "cell_type": "code",
   "execution_count": null,
   "metadata": {},
   "outputs": [],
   "source": [
    "v = np.array([[1,2,3]])\n",
    "print(v) \n",
    "print(v.T)"
   ]
  },
  {
   "cell_type": "markdown",
   "metadata": {},
   "source": [
    "### ブロードキャスティング"
   ]
  },
  {
   "cell_type": "markdown",
   "metadata": {},
   "source": [
    "ブロードキャスティングは数値演算を行う際に、形状の異なる配列を扱うことを可能にする強力な仕組みです。小さな配列と大きな配列があり、大きな配列に対して演算をする際に小さな配列を繰り返し使いたいということがしばしばあります。\n",
    "\n",
    "例えば、ある行列のすべての行に定数ベクトルを加算したいとします。次のようにしてこれを行うことができます。"
   ]
  },
  {
   "cell_type": "code",
   "execution_count": null,
   "metadata": {},
   "outputs": [],
   "source": [
    "# 行列ｘのすべての行にベクトルｖを加算し\n",
    "# 結果を行列ｙに格納する\n",
    "x = np.array([[1,2,3], [4,5,6], [7,8,9], [10, 11, 12]])\n",
    "v = np.array([1, 0, 1])\n",
    "y = np.empty_like(x)   # ｘと同じ形状の空行列を作る\n",
    "\n",
    "# 明示的な繰り返しにより行列ｘの各行にベクトルvを加算\n",
    "for i in range(4):\n",
    "    y[i, :] = x[i, :] + v\n",
    "\n",
    "print(y)"
   ]
  },
  {
   "cell_type": "markdown",
   "metadata": {},
   "source": [
    "これは動きます。しかし、行列 `x`が非常に大きな場合、Pythonで明示的な繰り返し計算をするのは、遅くなる可能性があります。行列 `x`の各行にベクトルvを加算するのは、ベクトル `v`の複数のコピーを縦方向に積み重ねた行列`vv`を作り、`x`と`vv`との要素ごとの合計を取ることと同値です。この手法を次のように実装できます。"
   ]
  },
  {
   "cell_type": "code",
   "execution_count": null,
   "metadata": {},
   "outputs": [],
   "source": [
    "vv = np.tile(v, (4, 1))  # vのコピーを4つ縦に積み上げる\n",
    "print(vv)                 # 出力は \"[[1 0 1]\n",
    "                         #          [1 0 1]\n",
    "                         #          [1 0 1]\n",
    "                         #          [1 0 1]]\""
   ]
  },
  {
   "cell_type": "code",
   "execution_count": null,
   "metadata": {},
   "outputs": [],
   "source": [
    "y = x + vv  # xとvvの要素ごとの和\n",
    "print(y)"
   ]
  },
  {
   "cell_type": "markdown",
   "metadata": {},
   "source": [
    "Numpyのブロードキャスティングを使うと、実際にvの複数のコピーを作ることなくこの計算を行うことができます。ブロードキャスティングを使用した次のバージョンを検証してください。"
   ]
  },
  {
   "cell_type": "code",
   "execution_count": null,
   "metadata": {},
   "outputs": [],
   "source": [
    "import numpy as np\n",
    "\n",
    "# 行列ｘのすべての行にベクトルｖを加算し\n",
    "# 結果を行列ｙに格納する\n",
    "x = np.array([[1,2,3], [4,5,6], [7,8,9], [10, 11, 12]])\n",
    "v = np.array([1, 0, 1])\n",
    "y = x + v  # ブロードキャスティングを使ってxの各行にｖを加算\n",
    "print(y)"
   ]
  },
  {
   "cell_type": "markdown",
   "metadata": {},
   "source": [
    "`y = x + v`という行のコードは、`x`の形状が`(4, 3)`で`v`の形状が`(3,)`であるにもかかわらず、ブロードキャスティングによって機能します。このコードは、vの形状があたかも`(4, 3)`であり、各業が`v`であるかのように働き、加算は要素単位に実行されます。\n",
    "\n",
    "2つの配列間のブロードキャスティングのルールは下記のとおりです。\n",
    "\n",
    "1. 配列同士が同じ階数でない場合、低い階数の配列の形状の前に、サイズ１の次元を加えることを繰り返し、両方の形状の長さがおなじになるようにする。\n",
    "2. ２つの配列のある次元の長さが同じ場合、あるいは、どちらかの配列でその次元のサイズが１の場合、その２つの配列は次元において互換性があるという。\n",
    "3. 配列がすべての次元において互換である場合、ブロードキャストする事ができる。\n",
    "4. ブロードキャスティングの後、２つの入力配列のうち一番大きな形状のものと要素単位で同じサイズであるかのように振る舞う。\n",
    "5. いずれかの次元で、一つの配列のサイズが１で他方の配列のサイズが１より大きい場合、サイズ１の配列はその次元上で複製されたかのように振る舞う。\n",
    "\n",
    "\n",
    "上記の説明がわかりにくい場合には、[ドキュメント](http://docs.scipy.org/doc/numpy/user/basics.broadcasting.html) を参照するか、この[説明](http://wiki.scipy.org/EricsBroadcastingDoc)を参照ください。\n",
    "\n",
    "ブロードキャスティングをサポートする関数は、ユニバーサル関数と呼ばれます。すべてのユニバーサル関数のリストは[ドキュメント](http://docs.scipy.org/doc/numpy/reference/ufuncs.html#available-ufuncs)に記載されています。\n",
    "\n",
    "ブロードキャスティングの応用例を示します。"
   ]
  },
  {
   "cell_type": "code",
   "execution_count": null,
   "metadata": {},
   "outputs": [],
   "source": [
    "# ベクトルの外積の計算\n",
    "v = np.array([1,2,3])  # v の形状は (3,)\n",
    "w = np.array([4,5])    # w の形状は (2,)\n",
    "# 外積を計算するには、まずｖを形状(3, 1)の列ベクトルにリシェープする\n",
    "# これでｗに対してブロードキャストできるようになり、その出力の形状は\n",
    "# (3, 2)となる。これがv とwの外積である\n",
    "\n",
    "print(np.reshape(v, (3, 1)) * w)"
   ]
  },
  {
   "cell_type": "code",
   "execution_count": null,
   "metadata": {},
   "outputs": [],
   "source": [
    "# 行列の各行に同じベクトルを加算する\n",
    "x = np.array([[1,2,3], [4,5,6]])\n",
    "# xの形状が(2, 3)でv の形状は(3,) ブロードキャストの結果\n",
    "# 形状は(2, 3)となり下記の結果を得る\n",
    "\n",
    "print(x + v)"
   ]
  },
  {
   "cell_type": "code",
   "execution_count": null,
   "metadata": {},
   "outputs": [],
   "source": [
    "# 行列の各列にベクトルを加算する\n",
    "# xの形状は(2, 3) wの形状は(2,)\n",
    "# ｘを転置すると形状は(3, 2)となりｗに対してブロードキャストが可能となり\n",
    "# 結果の形状は(3, 2)、これを転置することで最終結果を得ることができ、\n",
    "# その形状は(2, 3)で、行列xの各列にベクトルwを加算したもの\n",
    "# 結果は次の通り\n",
    "\n",
    "print((x.T + w).T)"
   ]
  },
  {
   "cell_type": "code",
   "execution_count": null,
   "metadata": {},
   "outputs": [],
   "source": [
    "# もう一つの解法は、ｗを形状 (2, 1)の行ベクトルにリシェープし\n",
    "# これにより、ｘに対して直接ブロードキャストすることができ\n",
    "# 同じ結果を得ることができる\n",
    "\n",
    "print(x + np.reshape(w, (2, 1)))"
   ]
  },
  {
   "cell_type": "code",
   "execution_count": null,
   "metadata": {},
   "outputs": [],
   "source": [
    "# 行列に定数を掛ける\n",
    "# x の形状は(2, 3) Numpyでスカラーは形状()の配列として扱われる\n",
    "# そのため、形状(2, 3)にブロードキャストすることができ\n",
    "# 次のような結果となる\n",
    "print(x * 2)"
   ]
  },
  {
   "cell_type": "markdown",
   "metadata": {},
   "source": [
    "ブロードキャスティングを使うと、コードが簡潔で速度も早くなります。このため、使用可能なところでは、ブロードキャスティングを使うように努めましょう。"
   ]
  },
  {
   "cell_type": "markdown",
   "metadata": {},
   "source": [
    "この概要では、Numpyについて知っておくべき重要な事柄の多くに触れましたが、全体像には程遠いものです。Numpyについての詳細は、[Numpyリファレンス](http://docs.scipy.org/doc/numpy/reference/) を参照してください。"
   ]
  }
 ],
 "metadata": {
  "kernelspec": {
   "display_name": "Python 3",
   "language": "python",
   "name": "python3"
  },
  "language_info": {
   "codemirror_mode": {
    "name": "ipython",
    "version": 3
   },
   "file_extension": ".py",
   "mimetype": "text/x-python",
   "name": "python",
   "nbconvert_exporter": "python",
   "pygments_lexer": "ipython3",
   "version": "3.6.5"
  }
 },
 "nbformat": 4,
 "nbformat_minor": 1
}
