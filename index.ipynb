{
 "cells": [
  {
   "cell_type": "markdown",
   "metadata": {},
   "source": [
    "# Python Boot Camp Text\n",
    "***\n",
    "本テキストは日本各地での初心者向けPythonチュートリアルイベント「Python Boot Camp」で使用するために、\n",
    "Pythonの開発環境構築、基礎的な文法や実践応用についてまとめたものです。\n",
    "\n",
    "- GitHub: https://github.com/pyconjp/bootcamp-text/\n",
    "- Read the Docs: https://readthedocs.org/projects/bootcamp-text/"
   ]
  },
  {
   "cell_type": "markdown",
   "metadata": {},
   "source": [
    "[1. Pythonをはじめる前に](1_install.ipynb)  \n",
    "1.1. エディタの準備  \n",
    "1.2. ターミナルの準備  \n",
    "1.3. Pythonのインストール  \n",
    "1.4. 注意事項  \n",
    "1.5. まとめ  \n",
    "[2. Pythonをはじめよう](2_intro.ipynb)  \n",
    "2.1. Pythonを楽しもう  \n",
    "2.2. FizzBuzz  \n",
    "2.3. まとめ  \n",
    "[3. Pythonのデータ型（基本編）](3_types.ipynb)  \n",
    "3.1. はじめに  \n",
    "3.2. 整数型（int）  \n",
    "3.3. 浮動小数点型（float）  \n",
    "3.4. 文字列型（str）  \n",
    "3.5. まとめ  \n",
    "[4. Pythonのデータ型（コレクション編）](4_collections.ipynb)  \n",
    "4.1. はじめに  \n",
    "4.2. リスト（list）  \n",
    "4.3. タプル（tuple）  \n",
    "4.4. 辞書（dict）  \n",
    "4.5. 集合（set）  \n",
    "4.6. まとめ  \n",
    "[5. ファイル操作とモジュール](5_modules.ipynb)  \n",
    "5.1. ファイル操作  \n",
    "5.2. モジュール  \n",
    "5.3. 標準ライブラリの利用  \n",
    "5.4. まとめ  \n",
    "[6. サードパーティ製パッケージと venv](6_venv.ipynb)  \n",
    "6.1. サードパーティ製パッケージ  \n",
    "6.2. venvとは  \n",
    "6.3. conda の場合  \n",
    "6.4. まとめ  \n",
    "[7. スクレイピング](7_scraping.ipynb)  \n",
    "7.1. スクレイピングとは  \n",
    "7.2. 環境構築  \n",
    "7.3. シンプルなスクレイピングのコード  \n",
    "7.4. 作り変えてみよう  \n",
    "7.5. まとめ  \n",
    "7.6. 参考書籍  \n",
    "[8. 次のステップ](8_nextstep.ipynb)  \n",
    "8.1. Webサイト  \n",
    "8.2. 書籍  \n",
    "8.3. コミュニティ  "
   ]
  }
 ],
 "metadata": {
  "kernelspec": {
   "display_name": "Python 3",
   "language": "python",
   "name": "python3"
  },
  "language_info": {
   "codemirror_mode": {
    "name": "ipython",
    "version": 3
   },
   "file_extension": ".py",
   "mimetype": "text/x-python",
   "name": "python",
   "nbconvert_exporter": "python",
   "pygments_lexer": "ipython3",
   "version": "3.6.5"
  }
 },
 "nbformat": 4,
 "nbformat_minor": 2
}
