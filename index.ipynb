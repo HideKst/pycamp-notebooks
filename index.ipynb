{
 "cells": [
  {
   "cell_type": "markdown",
   "metadata": {},
   "source": [
    "# Python Boot Camp Text\n",
    "***\n",
    "本テキストは日本各地での初心者向けPythonチュートリアルイベント「Python Boot Camp」で使用するために、\n",
    "Pythonの開発環境構築、基礎的な文法や実践応用についてまとめたものです。\n",
    "\n",
    "- GitHub: https://github.com/pyconjp/bootcamp-text/\n",
    "- Read the Docs: https://readthedocs.org/projects/bootcamp-text/"
   ]
  },
  {
   "cell_type": "markdown",
   "metadata": {},
   "source": [
    "<a href=\"1_install.ipynb\">1. Install</a>"
   ]
  },
  {
   "cell_type": "code",
   "execution_count": null,
   "metadata": {},
   "outputs": [],
   "source": []
  }
 ],
 "metadata": {
  "kernelspec": {
   "display_name": "Python 3",
   "language": "python",
   "name": "python3"
  },
  "language_info": {
   "codemirror_mode": {
    "name": "ipython",
    "version": 3
   },
   "file_extension": ".py",
   "mimetype": "text/x-python",
   "name": "python",
   "nbconvert_exporter": "python",
   "pygments_lexer": "ipython3",
   "version": "3.6.5"
  }
 },
 "nbformat": 4,
 "nbformat_minor": 2
}
